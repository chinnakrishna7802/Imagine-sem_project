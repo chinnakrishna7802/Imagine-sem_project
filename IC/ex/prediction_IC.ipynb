{
 "cells": [
  {
   "cell_type": "code",
   "execution_count": 1,
   "metadata": {},
   "outputs": [],
   "source": [
    "import torch\n"
   ]
  },
  {
   "cell_type": "code",
   "execution_count": 2,
   "metadata": {},
   "outputs": [
    {
     "ename": "AttributeError",
     "evalue": "module 'torch' has no attribute 'load_state_dict'",
     "output_type": "error",
     "traceback": [
      "\u001b[0;31m---------------------------------------------------------------------------\u001b[0m",
      "\u001b[0;31mAttributeError\u001b[0m                            Traceback (most recent call last)",
      "\u001b[1;32m/Users/harrymacbook/Documents/VisualCodes/ICE_MP/prediction_IC.ipynb Cell 2\u001b[0m in \u001b[0;36m<cell line: 2>\u001b[0;34m()\u001b[0m\n\u001b[1;32m      <a href='vscode-notebook-cell:/Users/harrymacbook/Documents/VisualCodes/ICE_MP/prediction_IC.ipynb#W1sZmlsZQ%3D%3D?line=0'>1</a>\u001b[0m \u001b[39m# model = torch.TheModelClass(*args, **kwargs) \u001b[39;00m\n\u001b[0;32m----> <a href='vscode-notebook-cell:/Users/harrymacbook/Documents/VisualCodes/ICE_MP/prediction_IC.ipynb#W1sZmlsZQ%3D%3D?line=1'>2</a>\u001b[0m model \u001b[39m=\u001b[39m torch\u001b[39m.\u001b[39mload_state_dict(torch\u001b[39m.\u001b[39mload(\u001b[39m\"\u001b[39m\u001b[39mgenerator_59.pth\u001b[39m\u001b[39m\"\u001b[39m), map_location\u001b[39m=\u001b[39mtorch\u001b[39m.\u001b[39mdevice(\u001b[39m'\u001b[39m\u001b[39mcpu\u001b[39m\u001b[39m'\u001b[39m)) \n\u001b[1;32m      <a href='vscode-notebook-cell:/Users/harrymacbook/Documents/VisualCodes/ICE_MP/prediction_IC.ipynb#W1sZmlsZQ%3D%3D?line=2'>3</a>\u001b[0m \u001b[39m# model = torch.load(\"\", )\u001b[39;00m\n\u001b[1;32m      <a href='vscode-notebook-cell:/Users/harrymacbook/Documents/VisualCodes/ICE_MP/prediction_IC.ipynb#W1sZmlsZQ%3D%3D?line=3'>4</a>\u001b[0m \u001b[39m# torch.save(model.state_dict(), \"model\") \u001b[39;00m\n\u001b[1;32m      <a href='vscode-notebook-cell:/Users/harrymacbook/Documents/VisualCodes/ICE_MP/prediction_IC.ipynb#W1sZmlsZQ%3D%3D?line=4'>5</a>\u001b[0m model\u001b[39m.\u001b[39meval()\n",
      "\u001b[0;31mAttributeError\u001b[0m: module 'torch' has no attribute 'load_state_dict'"
     ]
    }
   ],
   "source": [
    "# model = torch.TheModelClass(*args, **kwargs) \n",
    "model = torch.load_state_dict(torch.load(\"generator_59.pth\"), map_location=torch.device('cpu')) \n",
    "# model = torch.load(\"\", )\n",
    "# torch.save(model.state_dict(), \"model\") \n",
    "model.eval() \n",
    "# # model.predict()\n",
    "\n"
   ]
  },
  {
   "cell_type": "code",
   "execution_count": null,
   "metadata": {},
   "outputs": [],
   "source": [
    "import cv2\n",
    "def load(path,shape):\n",
    "    img= cv2.imread(path)\n",
    "    img= cv2.cvtColor(img, cv2.COLOR_BGR2RGB)\n",
    "    img= cv2.resize(img, shape)\n",
    "    return img"
   ]
  },
  {
   "cell_type": "code",
   "execution_count": null,
   "metadata": {},
   "outputs": [],
   "source": [
    "import numpy as np\n",
    "import glob\n",
    "import os\n",
    "import matplotlib.pyplot as plt \n"
   ]
  },
  {
   "cell_type": "code",
   "execution_count": null,
   "metadata": {},
   "outputs": [],
   "source": [
    "def get_data(path):\n",
    "    X=[]\n",
    "    Y=[]\n",
    "    for folder in glob.glob(path+ str('/*')):\n",
    "        for img_path in glob.glob(folder+ str('/*')):\n",
    "            if folder == os.path.join(path, 'test_black'):\n",
    "                X.append(load(img_path, (400, 400)))\n",
    "            elif folder == os.path.join(path, 'test_color'):\n",
    "                Y.append(load(img_path, (400,400)))\n",
    "    X= np.array(X)\n",
    "    Y= np.array(Y)\n",
    "    return X/255.0, Y/255.0"
   ]
  },
  {
   "cell_type": "code",
   "execution_count": null,
   "metadata": {},
   "outputs": [],
   "source": [
    "test_black , test_color = get_data(\"data\")"
   ]
  },
  {
   "cell_type": "code",
   "execution_count": null,
   "metadata": {},
   "outputs": [],
   "source": [
    "test_black.shape"
   ]
  },
  {
   "cell_type": "code",
   "execution_count": null,
   "metadata": {},
   "outputs": [],
   "source": [
    "test_color.shape"
   ]
  },
  {
   "cell_type": "code",
   "execution_count": null,
   "metadata": {},
   "outputs": [],
   "source": [
    "image = model.predict(test_black[0])\n",
    "image = Image.fromarray(np.uint8(image*255))\n",
    "plt.imshow(image)"
   ]
  },
  {
   "cell_type": "code",
   "execution_count": null,
   "metadata": {},
   "outputs": [],
   "source": [
    "model.predict"
   ]
  },
  {
   "cell_type": "code",
   "execution_count": null,
   "metadata": {},
   "outputs": [],
   "source": []
  }
 ],
 "metadata": {
  "kernelspec": {
   "display_name": "Python 3",
   "language": "python",
   "name": "python3"
  },
  "language_info": {
   "codemirror_mode": {
    "name": "ipython",
    "version": 3
   },
   "file_extension": ".py",
   "mimetype": "text/x-python",
   "name": "python",
   "nbconvert_exporter": "python",
   "pygments_lexer": "ipython3",
   "version": "3.10.4"
  },
  "orig_nbformat": 4,
  "vscode": {
   "interpreter": {
    "hash": "8f0063560737609a141aa87b39577853acdfc9932e5c5196f0acdb90df11be1d"
   }
  }
 },
 "nbformat": 4,
 "nbformat_minor": 2
}
