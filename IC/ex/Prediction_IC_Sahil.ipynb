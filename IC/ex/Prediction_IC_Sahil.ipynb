{
 "cells": [
  {
   "cell_type": "code",
   "execution_count": null,
   "metadata": {},
   "outputs": [],
   "source": [
    "img= load(file, shape=(384, 384))"
   ]
  },
  {
   "cell_type": "code",
   "execution_count": null,
   "metadata": {},
   "outputs": [],
   "source": [
    "f, ax= plt.subplots(1,3, figsize=(16, 6))\n",
    "ax[0].imshow(LR_train[save_ind], aspect='auto')\n",
    "ax[1].imshow(load(glob.glob('./samples/train*')[-1], (384, 384)), aspect='auto')\n",
    "ax[2].imshow(HR_train[save_ind], aspect='auto')\n",
    "plt.show()"
   ]
  },
  {
   "cell_type": "code",
   "execution_count": null,
   "metadata": {},
   "outputs": [],
   "source": [
    "img= G.predict(LR_train[np.newaxis, save_ind])[0]\n",
    "# if not sigmoid\n",
    "#img= (img-img.mean())/img.std()\n",
    "img= Image.fromarray(np.uint8(img*255))\n",
    "img.save(os.path.join(save_dir, 'train_g_{}.png'.format(epoch)))"
   ]
  },
  {
   "cell_type": "code",
   "execution_count": null,
   "metadata": {},
   "outputs": [],
   "source": [
    "  if epoch%10 ==0:\n",
    "    img= G.predict(LR_train[np.newaxis, save_ind])[0]\n",
    "    #img= (img-img.mean())/img.std()\n",
    "    img= Image.fromarray(np.uint8(img*255))\n",
    "    img.save(os.path.join(save_dir, 'init_g_{}.png'.format(epoch)))\n"
   ]
  },
  {
   "cell_type": "code",
   "execution_count": null,
   "metadata": {},
   "outputs": [],
   "source": [
    "model = torch.load(PATH)\n",
    "model.eval()\n",
    "model.predict()"
   ]
  }
 ],
 "metadata": {
  "language_info": {
   "name": "python"
  },
  "orig_nbformat": 4
 },
 "nbformat": 4,
 "nbformat_minor": 2
}
