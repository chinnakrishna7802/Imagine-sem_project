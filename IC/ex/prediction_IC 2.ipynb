{
 "cells": [
  {
   "cell_type": "code",
   "execution_count": null,
   "metadata": {},
   "outputs": [],
   "source": [
    "import torch\n"
   ]
  },
  {
   "cell_type": "code",
   "execution_count": null,
   "metadata": {},
   "outputs": [],
   "source": [
    "model = torch.load('generator_74_Full.pth')\n",
    "model.eval()"
   ]
  },
  {
   "cell_type": "code",
   "execution_count": null,
   "metadata": {},
   "outputs": [],
   "source": [
    "import cv2\n",
    "def load(path,shape):\n",
    "    img= cv2.imread(path)\n",
    "    img= cv2.cvtColor(img, cv2.COLOR_BGR2RGB)\n",
    "    img= cv2.resize(img, shape)\n",
    "    return img"
   ]
  },
  {
   "cell_type": "code",
   "execution_count": null,
   "metadata": {},
   "outputs": [],
   "source": [
    "import numpy as np\n",
    "import glob\n",
    "import os\n",
    "import matplotlib.pyplot as plt \n",
    "from PIL import Image\n",
    "import torch\n"
   ]
  },
  {
   "cell_type": "code",
   "execution_count": null,
   "metadata": {},
   "outputs": [],
   "source": [
    "def get_data(path):\n",
    "    X=[]\n",
    "    Y=[]\n",
    "    for folder in glob.glob(path+ str('/*')):\n",
    "        for img_path in glob.glob(folder+ str('/*')):\n",
    "            if folder == os.path.join(path, 'test_black'):\n",
    "                X.append(load(img_path, (400, 400)))\n",
    "            elif folder == os.path.join(path, 'test_color'):\n",
    "                Y.append(load(img_path, (400,400)))\n",
    "    X= np.array(X)\n",
    "    Y= np.array(Y)\n",
    "    return X/255.0, Y/255.0"
   ]
  },
  {
   "cell_type": "code",
   "execution_count": null,
   "metadata": {},
   "outputs": [],
   "source": [
    "test_black , test_color = get_data(\"data\")"
   ]
  },
  {
   "cell_type": "code",
   "execution_count": null,
   "metadata": {},
   "outputs": [],
   "source": [
    "test_black.shape"
   ]
  },
  {
   "cell_type": "code",
   "execution_count": null,
   "metadata": {},
   "outputs": [],
   "source": [
    "test_color.shape"
   ]
  },
  {
   "cell_type": "code",
   "execution_count": null,
   "metadata": {},
   "outputs": [],
   "source": [
    "model = torch.load('generator_74_Full.pth')\n",
    "model.eval()"
   ]
  },
  {
   "cell_type": "code",
   "execution_count": 17,
   "metadata": {},
   "outputs": [
    {
     "ename": "AttributeError",
     "evalue": "'RecursiveScriptModule' object has no attribute 'predict'",
     "output_type": "error",
     "traceback": [
      "\u001b[1;31m---------------------------------------------------------------------------\u001b[0m",
      "\u001b[1;31mAttributeError\u001b[0m                            Traceback (most recent call last)",
      "\u001b[1;32mc:\\Users\\Jinay Vora\\OneDrive\\Desktop\\Data_Analytics_ICE\\prediction_IC.ipynb Cell 10\u001b[0m in \u001b[0;36m<cell line: 1>\u001b[1;34m()\u001b[0m\n\u001b[1;32m----> <a href='vscode-notebook-cell:/c%3A/Users/Jinay%20Vora/OneDrive/Desktop/Data_Analytics_ICE/prediction_IC.ipynb#X13sZmlsZQ%3D%3D?line=0'>1</a>\u001b[0m img\u001b[39m=\u001b[39m model\u001b[39m.\u001b[39;49mpredict(test_black[\u001b[39m0\u001b[39m])\n\u001b[0;32m      <a href='vscode-notebook-cell:/c%3A/Users/Jinay%20Vora/OneDrive/Desktop/Data_Analytics_ICE/prediction_IC.ipynb#X13sZmlsZQ%3D%3D?line=1'>2</a>\u001b[0m \u001b[39m# if not sigmoid\u001b[39;00m\n\u001b[0;32m      <a href='vscode-notebook-cell:/c%3A/Users/Jinay%20Vora/OneDrive/Desktop/Data_Analytics_ICE/prediction_IC.ipynb#X13sZmlsZQ%3D%3D?line=2'>3</a>\u001b[0m \u001b[39m# #img= (img-img.mean())/img.std()\u001b[39;00m\n\u001b[0;32m      <a href='vscode-notebook-cell:/c%3A/Users/Jinay%20Vora/OneDrive/Desktop/Data_Analytics_ICE/prediction_IC.ipynb#X13sZmlsZQ%3D%3D?line=3'>4</a>\u001b[0m img\u001b[39m=\u001b[39m Image\u001b[39m.\u001b[39mfromarray(np\u001b[39m.\u001b[39muint8(img\u001b[39m*\u001b[39m\u001b[39m255\u001b[39m))\n",
      "File \u001b[1;32mc:\\Users\\Jinay Vora\\AppData\\Local\\Programs\\Python\\Python310\\lib\\site-packages\\torch\\jit\\_script.py:764\u001b[0m, in \u001b[0;36mRecursiveScriptModule.__getattr__\u001b[1;34m(self, attr)\u001b[0m\n\u001b[0;32m    761\u001b[0m     \u001b[39mself\u001b[39m\u001b[39m.\u001b[39m\u001b[39m__dict__\u001b[39m[attr] \u001b[39m=\u001b[39m script_method\n\u001b[0;32m    762\u001b[0m     \u001b[39mreturn\u001b[39;00m script_method\n\u001b[1;32m--> 764\u001b[0m \u001b[39mreturn\u001b[39;00m \u001b[39msuper\u001b[39;49m(RecursiveScriptModule, \u001b[39mself\u001b[39;49m)\u001b[39m.\u001b[39;49m\u001b[39m__getattr__\u001b[39;49m(attr)\n",
      "File \u001b[1;32mc:\\Users\\Jinay Vora\\AppData\\Local\\Programs\\Python\\Python310\\lib\\site-packages\\torch\\jit\\_script.py:481\u001b[0m, in \u001b[0;36mScriptModule.__getattr__\u001b[1;34m(self, attr)\u001b[0m\n\u001b[0;32m    479\u001b[0m \u001b[39mdef\u001b[39;00m \u001b[39m__getattr__\u001b[39m(\u001b[39mself\u001b[39m, attr):\n\u001b[0;32m    480\u001b[0m     \u001b[39mif\u001b[39;00m \u001b[39m\"\u001b[39m\u001b[39m_actual_script_module\u001b[39m\u001b[39m\"\u001b[39m \u001b[39mnot\u001b[39;00m \u001b[39min\u001b[39;00m \u001b[39mself\u001b[39m\u001b[39m.\u001b[39m\u001b[39m__dict__\u001b[39m:\n\u001b[1;32m--> 481\u001b[0m         \u001b[39mreturn\u001b[39;00m \u001b[39msuper\u001b[39;49m(ScriptModule, \u001b[39mself\u001b[39;49m)\u001b[39m.\u001b[39;49m\u001b[39m__getattr__\u001b[39;49m(attr)\n\u001b[0;32m    482\u001b[0m     \u001b[39mreturn\u001b[39;00m \u001b[39mgetattr\u001b[39m(\u001b[39mself\u001b[39m\u001b[39m.\u001b[39m_actual_script_module, attr)\n",
      "File \u001b[1;32mc:\\Users\\Jinay Vora\\AppData\\Local\\Programs\\Python\\Python310\\lib\\site-packages\\torch\\nn\\modules\\module.py:1185\u001b[0m, in \u001b[0;36mModule.__getattr__\u001b[1;34m(self, name)\u001b[0m\n\u001b[0;32m   1183\u001b[0m     \u001b[39mif\u001b[39;00m name \u001b[39min\u001b[39;00m modules:\n\u001b[0;32m   1184\u001b[0m         \u001b[39mreturn\u001b[39;00m modules[name]\n\u001b[1;32m-> 1185\u001b[0m \u001b[39mraise\u001b[39;00m \u001b[39mAttributeError\u001b[39;00m(\u001b[39m\"\u001b[39m\u001b[39m'\u001b[39m\u001b[39m{}\u001b[39;00m\u001b[39m'\u001b[39m\u001b[39m object has no attribute \u001b[39m\u001b[39m'\u001b[39m\u001b[39m{}\u001b[39;00m\u001b[39m'\u001b[39m\u001b[39m\"\u001b[39m\u001b[39m.\u001b[39mformat(\n\u001b[0;32m   1186\u001b[0m     \u001b[39mtype\u001b[39m(\u001b[39mself\u001b[39m)\u001b[39m.\u001b[39m\u001b[39m__name__\u001b[39m, name))\n",
      "\u001b[1;31mAttributeError\u001b[0m: 'RecursiveScriptModule' object has no attribute 'predict'"
     ]
    }
   ],
   "source": [
    "img= model.predict(test_black[0])\n",
    "# if not sigmoid\n",
    "# #img= (img-img.mean())/img.std()\n",
    "img= Image.fromarray(np.uint8(img*255))\n",
    "img.save(os.path.join(\"predict_color0\", '_model_60.jpg'))"
   ]
  },
  {
   "cell_type": "code",
   "execution_count": null,
   "metadata": {},
   "outputs": [],
   "source": [
    "f, ax= plt.subplots(1,3, figsize=(16, 6))\n",
    "ax[0].imshow(test_black[0], aspect='auto')\n",
    "ax[1].imshow(load(glob.glob('./samples/train*')[-1], (400, 400)), aspect='auto')\n",
    "ax[2].imshow(test_color[0], aspect='auto')\n",
    "plt.show()"
   ]
  },
  {
   "cell_type": "code",
   "execution_count": 18,
   "metadata": {},
   "outputs": [
    {
     "name": "stderr",
     "output_type": "stream",
     "text": [
      "c:\\Users\\Jinay Vora\\AppData\\Local\\Programs\\Python\\Python310\\lib\\site-packages\\torch\\serialization.py:707: UserWarning: 'torch.load' received a zip file that looks like a TorchScript archive dispatching to 'torch.jit.load' (call 'torch.jit.load' directly to silence this warning)\n",
      "  warnings.warn(\"'torch.load' received a zip file that looks like a TorchScript archive\"\n"
     ]
    },
    {
     "data": {
      "text/plain": [
       "RecursiveScriptModule(\n",
       "  original_name=color_ecv\n",
       "  (model): RecursiveScriptModule(\n",
       "    original_name=ECCVGenerator\n",
       "    (model1): RecursiveScriptModule(\n",
       "      original_name=Sequential\n",
       "      (0): RecursiveScriptModule(original_name=Conv2d)\n",
       "      (1): RecursiveScriptModule(original_name=ReLU)\n",
       "      (2): RecursiveScriptModule(original_name=Conv2d)\n",
       "      (3): RecursiveScriptModule(original_name=ReLU)\n",
       "      (4): RecursiveScriptModule(original_name=BatchNorm2d)\n",
       "    )\n",
       "    (model2): RecursiveScriptModule(\n",
       "      original_name=Sequential\n",
       "      (0): RecursiveScriptModule(original_name=Conv2d)\n",
       "      (1): RecursiveScriptModule(original_name=ReLU)\n",
       "      (2): RecursiveScriptModule(original_name=Conv2d)\n",
       "      (3): RecursiveScriptModule(original_name=ReLU)\n",
       "      (4): RecursiveScriptModule(original_name=BatchNorm2d)\n",
       "    )\n",
       "    (model3): RecursiveScriptModule(\n",
       "      original_name=Sequential\n",
       "      (0): RecursiveScriptModule(original_name=Conv2d)\n",
       "      (1): RecursiveScriptModule(original_name=ReLU)\n",
       "      (2): RecursiveScriptModule(original_name=Conv2d)\n",
       "      (3): RecursiveScriptModule(original_name=ReLU)\n",
       "      (4): RecursiveScriptModule(original_name=Conv2d)\n",
       "      (5): RecursiveScriptModule(original_name=ReLU)\n",
       "      (6): RecursiveScriptModule(original_name=BatchNorm2d)\n",
       "    )\n",
       "    (model4): RecursiveScriptModule(\n",
       "      original_name=Sequential\n",
       "      (0): RecursiveScriptModule(original_name=Conv2d)\n",
       "      (1): RecursiveScriptModule(original_name=ReLU)\n",
       "      (2): RecursiveScriptModule(original_name=Conv2d)\n",
       "      (3): RecursiveScriptModule(original_name=ReLU)\n",
       "      (4): RecursiveScriptModule(original_name=Conv2d)\n",
       "      (5): RecursiveScriptModule(original_name=ReLU)\n",
       "      (6): RecursiveScriptModule(original_name=BatchNorm2d)\n",
       "    )\n",
       "    (model5): RecursiveScriptModule(\n",
       "      original_name=Sequential\n",
       "      (0): RecursiveScriptModule(original_name=Conv2d)\n",
       "      (1): RecursiveScriptModule(original_name=ReLU)\n",
       "      (2): RecursiveScriptModule(original_name=Conv2d)\n",
       "      (3): RecursiveScriptModule(original_name=ReLU)\n",
       "      (4): RecursiveScriptModule(original_name=Conv2d)\n",
       "      (5): RecursiveScriptModule(original_name=ReLU)\n",
       "      (6): RecursiveScriptModule(original_name=BatchNorm2d)\n",
       "    )\n",
       "    (model6): RecursiveScriptModule(\n",
       "      original_name=Sequential\n",
       "      (0): RecursiveScriptModule(original_name=Conv2d)\n",
       "      (1): RecursiveScriptModule(original_name=ReLU)\n",
       "      (2): RecursiveScriptModule(original_name=Conv2d)\n",
       "      (3): RecursiveScriptModule(original_name=ReLU)\n",
       "      (4): RecursiveScriptModule(original_name=Conv2d)\n",
       "      (5): RecursiveScriptModule(original_name=ReLU)\n",
       "      (6): RecursiveScriptModule(original_name=BatchNorm2d)\n",
       "    )\n",
       "    (model7): RecursiveScriptModule(\n",
       "      original_name=Sequential\n",
       "      (0): RecursiveScriptModule(original_name=Conv2d)\n",
       "      (1): RecursiveScriptModule(original_name=ReLU)\n",
       "      (2): RecursiveScriptModule(original_name=Conv2d)\n",
       "      (3): RecursiveScriptModule(original_name=ReLU)\n",
       "      (4): RecursiveScriptModule(original_name=Conv2d)\n",
       "      (5): RecursiveScriptModule(original_name=ReLU)\n",
       "      (6): RecursiveScriptModule(original_name=BatchNorm2d)\n",
       "    )\n",
       "    (model8): RecursiveScriptModule(\n",
       "      original_name=Sequential\n",
       "      (0): RecursiveScriptModule(original_name=ConvTranspose2d)\n",
       "      (1): RecursiveScriptModule(original_name=ReLU)\n",
       "      (2): RecursiveScriptModule(original_name=Conv2d)\n",
       "      (3): RecursiveScriptModule(original_name=ReLU)\n",
       "      (4): RecursiveScriptModule(original_name=Conv2d)\n",
       "      (5): RecursiveScriptModule(original_name=ReLU)\n",
       "      (6): RecursiveScriptModule(original_name=Conv2d)\n",
       "    )\n",
       "    (softmax): RecursiveScriptModule(original_name=Softmax)\n",
       "    (model_out): RecursiveScriptModule(original_name=Conv2d)\n",
       "    (upsample4): RecursiveScriptModule(original_name=Upsample)\n",
       "  )\n",
       ")"
      ]
     },
     "execution_count": 18,
     "metadata": {},
     "output_type": "execute_result"
    }
   ],
   "source": [
    "model = torch.load('generator90_scripted.pt')\n",
    "model.eval()"
   ]
  },
  {
   "cell_type": "code",
   "execution_count": 19,
   "metadata": {},
   "outputs": [
    {
     "ename": "AttributeError",
     "evalue": "Can't get attribute 'color_ecv' on <module '__main__'>",
     "output_type": "error",
     "traceback": [
      "\u001b[1;31m---------------------------------------------------------------------------\u001b[0m",
      "\u001b[1;31mAttributeError\u001b[0m                            Traceback (most recent call last)",
      "\u001b[1;32mc:\\Users\\Jinay Vora\\OneDrive\\Desktop\\Data_Analytics_ICE\\prediction_IC.ipynb Cell 13\u001b[0m in \u001b[0;36m<cell line: 1>\u001b[1;34m()\u001b[0m\n\u001b[1;32m----> <a href='vscode-notebook-cell:/c%3A/Users/Jinay%20Vora/OneDrive/Desktop/Data_Analytics_ICE/prediction_IC.ipynb#X16sZmlsZQ%3D%3D?line=0'>1</a>\u001b[0m model \u001b[39m=\u001b[39m torch\u001b[39m.\u001b[39;49mload(\u001b[39m\"\u001b[39;49m\u001b[39mgenerator_60_Full.pth\u001b[39;49m\u001b[39m\"\u001b[39;49m)\n\u001b[0;32m      <a href='vscode-notebook-cell:/c%3A/Users/Jinay%20Vora/OneDrive/Desktop/Data_Analytics_ICE/prediction_IC.ipynb#X16sZmlsZQ%3D%3D?line=1'>2</a>\u001b[0m model\u001b[39m.\u001b[39meval()\n",
      "File \u001b[1;32mc:\\Users\\Jinay Vora\\AppData\\Local\\Programs\\Python\\Python310\\lib\\site-packages\\torch\\serialization.py:712\u001b[0m, in \u001b[0;36mload\u001b[1;34m(f, map_location, pickle_module, **pickle_load_args)\u001b[0m\n\u001b[0;32m    710\u001b[0m             opened_file\u001b[39m.\u001b[39mseek(orig_position)\n\u001b[0;32m    711\u001b[0m             \u001b[39mreturn\u001b[39;00m torch\u001b[39m.\u001b[39mjit\u001b[39m.\u001b[39mload(opened_file)\n\u001b[1;32m--> 712\u001b[0m         \u001b[39mreturn\u001b[39;00m _load(opened_zipfile, map_location, pickle_module, \u001b[39m*\u001b[39m\u001b[39m*\u001b[39mpickle_load_args)\n\u001b[0;32m    713\u001b[0m \u001b[39mreturn\u001b[39;00m _legacy_load(opened_file, map_location, pickle_module, \u001b[39m*\u001b[39m\u001b[39m*\u001b[39mpickle_load_args)\n",
      "File \u001b[1;32mc:\\Users\\Jinay Vora\\AppData\\Local\\Programs\\Python\\Python310\\lib\\site-packages\\torch\\serialization.py:1046\u001b[0m, in \u001b[0;36m_load\u001b[1;34m(zip_file, map_location, pickle_module, pickle_file, **pickle_load_args)\u001b[0m\n\u001b[0;32m   1044\u001b[0m unpickler \u001b[39m=\u001b[39m UnpicklerWrapper(data_file, \u001b[39m*\u001b[39m\u001b[39m*\u001b[39mpickle_load_args)\n\u001b[0;32m   1045\u001b[0m unpickler\u001b[39m.\u001b[39mpersistent_load \u001b[39m=\u001b[39m persistent_load\n\u001b[1;32m-> 1046\u001b[0m result \u001b[39m=\u001b[39m unpickler\u001b[39m.\u001b[39;49mload()\n\u001b[0;32m   1048\u001b[0m torch\u001b[39m.\u001b[39m_utils\u001b[39m.\u001b[39m_validate_loaded_sparse_tensors()\n\u001b[0;32m   1050\u001b[0m \u001b[39mreturn\u001b[39;00m result\n",
      "File \u001b[1;32mc:\\Users\\Jinay Vora\\AppData\\Local\\Programs\\Python\\Python310\\lib\\site-packages\\torch\\serialization.py:1039\u001b[0m, in \u001b[0;36m_load.<locals>.UnpicklerWrapper.find_class\u001b[1;34m(self, mod_name, name)\u001b[0m\n\u001b[0;32m   1037\u001b[0m         \u001b[39mpass\u001b[39;00m\n\u001b[0;32m   1038\u001b[0m mod_name \u001b[39m=\u001b[39m load_module_mapping\u001b[39m.\u001b[39mget(mod_name, mod_name)\n\u001b[1;32m-> 1039\u001b[0m \u001b[39mreturn\u001b[39;00m \u001b[39msuper\u001b[39;49m()\u001b[39m.\u001b[39;49mfind_class(mod_name, name)\n",
      "\u001b[1;31mAttributeError\u001b[0m: Can't get attribute 'color_ecv' on <module '__main__'>"
     ]
    }
   ],
   "source": [
    "model = torch.load(\"generator_60_Full.pth\")\n",
    "model.eval()"
   ]
  },
  {
   "cell_type": "code",
   "execution_count": null,
   "metadata": {},
   "outputs": [],
   "source": []
  }
 ],
 "metadata": {
  "kernelspec": {
   "display_name": "Python 3",
   "language": "python",
   "name": "python3"
  },
  "language_info": {
   "codemirror_mode": {
    "name": "ipython",
    "version": 3
   },
   "file_extension": ".py",
   "mimetype": "text/x-python",
   "name": "python",
   "nbconvert_exporter": "python",
   "pygments_lexer": "ipython3",
   "version": "3.10.4"
  },
  "orig_nbformat": 4,
  "vscode": {
   "interpreter": {
    "hash": "8f0063560737609a141aa87b39577853acdfc9932e5c5196f0acdb90df11be1d"
   }
  }
 },
 "nbformat": 4,
 "nbformat_minor": 2
}
